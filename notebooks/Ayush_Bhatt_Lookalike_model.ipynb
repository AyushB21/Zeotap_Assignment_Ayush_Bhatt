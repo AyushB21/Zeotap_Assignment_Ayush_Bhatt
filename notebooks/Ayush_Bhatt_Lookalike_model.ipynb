{
 "cells": [
  {
   "cell_type": "code",
   "execution_count": 2,
   "metadata": {},
   "outputs": [],
   "source": [
    "from sklearn.metrics.pairwise import cosine_similarity\n",
    "from sklearn.preprocessing import StandardScaler\n",
    "import numpy as np"
   ]
  },
  {
   "cell_type": "code",
   "execution_count": 3,
   "metadata": {},
   "outputs": [],
   "source": [
    "import pandas as pd\n",
    "\n",
    "# Load the Transactions dataset\n",
    "\n",
    "transactions_file = r\"D:\\Company assignments\\Zeotap_Data_science_assignment\\data\\Transactions.csv\"\n",
    "transactions = pd.read_csv(transactions_file)\n",
    "\n",
    "customers_file = r\"D:\\Company assignments\\Zeotap_Data_science_assignment\\data\\Customers.csv\"\n",
    "customers = pd.read_csv(customers_file)"
   ]
  },
  {
   "cell_type": "markdown",
   "metadata": {},
   "source": [
    "### # Feature Engineering"
   ]
  },
  {
   "cell_type": "code",
   "execution_count": 4,
   "metadata": {},
   "outputs": [],
   "source": [
    "# 1. Create a total spend per customer\n",
    "customer_spending = transactions.groupby('CustomerID')['TotalValue'].sum().reset_index()\n",
    "customer_spending = customer_spending.rename(columns={'TotalValue': 'TotalSpend'})"
   ]
  },
  {
   "cell_type": "code",
   "execution_count": 5,
   "metadata": {},
   "outputs": [],
   "source": [
    "# 2. Create a product purchase history by customer\n",
    "product_purchase = transactions.groupby(['CustomerID', 'ProductID'])['Quantity'].sum().unstack(fill_value=0)\n",
    "product_purchase = product_purchase.reset_index()"
   ]
  },
  {
   "cell_type": "code",
   "execution_count": 6,
   "metadata": {},
   "outputs": [],
   "source": [
    "# 3. Combine customer demographic info and transaction data\n",
    "customer_data = pd.merge(customers, customer_spending, on='CustomerID', how='left')\n",
    "\n",
    "# We will also merge product purchase history with customer data\n",
    "customer_data = pd.merge(customer_data, product_purchase, on='CustomerID', how='left')\n",
    "\n",
    "# Handle missing values and scale numerical features\n",
    "customer_data = customer_data.fillna(0)\n",
    "scaler = StandardScaler()\n",
    "scaled_features = scaler.fit_transform(customer_data[['TotalSpend'] + list(product_purchase.columns[1:])])\n",
    "\n",
    "# Compute cosine similarity\n",
    "cos_sim_matrix = cosine_similarity(scaled_features)"
   ]
  },
  {
   "cell_type": "code",
   "execution_count": 7,
   "metadata": {},
   "outputs": [],
   "source": [
    "# Extract top 3 lookalike customers for the first 20 customers\n",
    "lookalikes = {}\n",
    "for customer_idx in range(20):\n",
    "    sim_scores = cos_sim_matrix[customer_idx]\n",
    "    similar_indices = sim_scores.argsort()[-4:-1][::-1]  # Top 3 similar excluding itself\n",
    "    lookalikes[customer_data['CustomerID'][customer_idx]] = [\n",
    "        (customer_data['CustomerID'][i], sim_scores[i]) for i in similar_indices\n",
    "    ]"
   ]
  },
  {
   "cell_type": "code",
   "execution_count": 8,
   "metadata": {},
   "outputs": [],
   "source": [
    "# Convert to a DataFrame\n",
    "lookalike_df = []\n",
    "for customer_id, similar_customers in lookalikes.items():\n",
    "    for similar_customer, score in similar_customers:\n",
    "        lookalike_df.append([customer_id, similar_customer, score])\n",
    "\n",
    "lookalike_df = pd.DataFrame(lookalike_df, columns=[\"CustomerID\", \"LookalikeID\", \"SimilarityScore\"])"
   ]
  },
  {
   "cell_type": "code",
   "execution_count": 9,
   "metadata": {},
   "outputs": [],
   "source": [
    "# Save the result as Lookalike.csv\n",
    "lookalike_df.to_csv(\"Lookalike_Model.csv\", index=False)"
   ]
  }
 ],
 "metadata": {
  "kernelspec": {
   "display_name": "env",
   "language": "python",
   "name": "python3"
  },
  "language_info": {
   "codemirror_mode": {
    "name": "ipython",
    "version": 3
   },
   "file_extension": ".py",
   "mimetype": "text/x-python",
   "name": "python",
   "nbconvert_exporter": "python",
   "pygments_lexer": "ipython3",
   "version": "3.13.1"
  }
 },
 "nbformat": 4,
 "nbformat_minor": 2
}
